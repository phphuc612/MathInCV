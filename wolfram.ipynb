{
 "cells": [
  {
   "cell_type": "code",
   "execution_count": 7,
   "metadata": {},
   "outputs": [
    {
     "name": "stdout",
     "output_type": "stream",
     "text": [
      "0j 101\n",
      "0.1j 101\n",
      "0.2j 101\n",
      "0.3j 101\n",
      "0.4j 101\n",
      "(0.1+0j) 101\n",
      "(0.1+0.1j) 101\n",
      "(0.1+0.2j) 101\n",
      "(0.1+0.3j) 101\n",
      "(0.1+0.4j) 101\n",
      "(0.2+0j) 101\n",
      "(0.2+0.1j) 101\n",
      "(0.2+0.2j) 101\n",
      "(0.2+0.3j) 101\n",
      "(0.2+0.4j) 101\n",
      "(0.3+0j) 12\n",
      "(0.3+0.1j) 101\n",
      "(0.3+0.2j) 101\n",
      "(0.3+0.3j) 101\n",
      "(0.3+0.4j) 101\n",
      "(0.4+0j) 7\n",
      "(0.4+0.1j) 8\n",
      "(0.4+0.2j) 31\n",
      "(0.4+0.3j) 15\n",
      "(0.4+0.4j) 9\n"
     ]
    }
   ],
   "source": [
    "max_iter = 100\n",
    "\n",
    "def mandelbrot(c):\n",
    "    z=0\n",
    "    n=0\n",
    "    while abs(z)<=2 and n <= max_iter:\n",
    "        z = z**2 + c\n",
    "        n += 1\n",
    "    return n\n",
    "\n",
    "\n",
    "for a in range(5):\n",
    "    for b in range(5):\n",
    "        d = complex(a/10, b/10)\n",
    "        print(d, mandelbrot(d))\n",
    "\n",
    "\n",
    "from PIL import Image, ImageDraw\n",
    "\n",
    "# Image size (pixels)\n",
    "Width = 600\n",
    "Height = 400\n",
    "\n",
    "#Plot window: visible domain and range. Re and Im\n",
    "RE_START = 1.4\n",
    "RE_END = 1.6\n",
    "IM_START = -0.1\n",
    "IM_END = 0.1\n",
    "\n",
    "\n",
    "#Making new image object\n",
    "mandelbrot_graph = Image.new('RGB', (Width, Height), (0, 0, 0))\n",
    "draw = ImageDraw.Draw(mandelbrot_graph)\n",
    "\n",
    "for x in range(0,Width):\n",
    "    for y in range(0,Height):\n",
    "        # Convert pixel coordinate to complex number\n",
    "        c = complex(RE_START + (x/Width) * (RE_END - RE_START), IM_START + (y/Height) * (IM_END - IM_START))\n",
    "        num_it = mandelbrot(c)\n",
    "        # The color depends on the number of iterations, Rgb scale which I do not know\n",
    "        color = 255 - int(num_it * 255 / max_iter)\n",
    "        # Plot the point\n",
    "        draw.point([x, y], (color, color, color))\n",
    "\n",
    "mandelbrot_graph.save('NEW.png', 'PNG')\n",
    "mandelbrot_graph.show()"
   ]
  }
 ],
 "metadata": {
  "kernelspec": {
   "display_name": "zalo",
   "language": "python",
   "name": "python3"
  },
  "language_info": {
   "codemirror_mode": {
    "name": "ipython",
    "version": 3
   },
   "file_extension": ".py",
   "mimetype": "text/x-python",
   "name": "python",
   "nbconvert_exporter": "python",
   "pygments_lexer": "ipython3",
   "version": "3.8.0"
  }
 },
 "nbformat": 4,
 "nbformat_minor": 2
}
