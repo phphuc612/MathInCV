{
 "cells": [
  {
   "cell_type": "code",
   "execution_count": null,
   "metadata": {},
   "outputs": [],
   "source": []
  },
  {
   "cell_type": "code",
   "execution_count": 1,
   "metadata": {},
   "outputs": [
    {
     "ename": "ModuleNotFoundError",
     "evalue": "No module named 'skimage'",
     "output_type": "error",
     "traceback": [
      "\u001b[0;31m---------------------------------------------------------------------------\u001b[0m",
      "\u001b[0;31mModuleNotFoundError\u001b[0m                       Traceback (most recent call last)",
      "\u001b[1;32m/Users/lap15303/Desktop/MathInCV/test.ipynb Cell 2\u001b[0m line \u001b[0;36m5\n\u001b[1;32m      <a href='vscode-notebook-cell:/Users/lap15303/Desktop/MathInCV/test.ipynb#W1sZmlsZQ%3D%3D?line=2'>3</a>\u001b[0m \u001b[39mimport\u001b[39;00m \u001b[39mrequests\u001b[39;00m\n\u001b[1;32m      <a href='vscode-notebook-cell:/Users/lap15303/Desktop/MathInCV/test.ipynb#W1sZmlsZQ%3D%3D?line=3'>4</a>\u001b[0m \u001b[39mfrom\u001b[39;00m \u001b[39mio\u001b[39;00m \u001b[39mimport\u001b[39;00m BytesIO\n\u001b[0;32m----> <a href='vscode-notebook-cell:/Users/lap15303/Desktop/MathInCV/test.ipynb#W1sZmlsZQ%3D%3D?line=4'>5</a>\u001b[0m \u001b[39mfrom\u001b[39;00m \u001b[39mskimage\u001b[39;00m \u001b[39mimport\u001b[39;00m transform \u001b[39mas\u001b[39;00m tf\n\u001b[1;32m      <a href='vscode-notebook-cell:/Users/lap15303/Desktop/MathInCV/test.ipynb#W1sZmlsZQ%3D%3D?line=6'>7</a>\u001b[0m \u001b[39mdef\u001b[39;00m \u001b[39mfade_frame\u001b[39m(img, sides\u001b[39m=\u001b[39m\u001b[39m20\u001b[39m, bottom\u001b[39m=\u001b[39m\u001b[39m40\u001b[39m):\n\u001b[1;32m      <a href='vscode-notebook-cell:/Users/lap15303/Desktop/MathInCV/test.ipynb#W1sZmlsZQ%3D%3D?line=7'>8</a>\u001b[0m     img \u001b[39m=\u001b[39m img\u001b[39m.\u001b[39mfilter(ImageFilter\u001b[39m.\u001b[39mBoxBlur(sides))\u001b[39m.\u001b[39mcrop((sides, sides, img\u001b[39m.\u001b[39mwidth \u001b[39m-\u001b[39m sides, img\u001b[39m.\u001b[39mheight \u001b[39m-\u001b[39m sides))\n",
      "\u001b[0;31mModuleNotFoundError\u001b[0m: No module named 'skimage'"
     ]
    }
   ],
   "source": [
    "from PIL import Image, ImageFilter, ImageOps\n",
    "import numpy as np\n",
    "import requests\n",
    "from io import BytesIO\n",
    "from skimage import transform as tf\n",
    "\n",
    "def fade_frame(img, sides=20, bottom=40):\n",
    "    img = img.filter(ImageFilter.BoxBlur(sides)).crop((sides, sides, img.width - sides, img.height - sides))\n",
    "    img = img.filter(ImageFilter.BoxBlur(bottom)).crop((0, bottom, img.width, img.height - bottom))\n",
    "    return img\n",
    "\n",
    "response = requests.get('https://i.stack.imgur.com/BM8Bu.png')\n",
    "doge_img = Image.open(BytesIO(response.content))\n",
    "doge_img = ImageOps.expand(doge_img, (0, 0, 0, 100), fill=(255, 255, 255))\n",
    "doge_img = doge_img.resize((int(doge_img.width * 0.5), int(doge_img.height * 0.5)))\n",
    "doge_img = fade_frame(doge_img)\n",
    "\n",
    "scales = [1/5, 1/3]\n",
    "transfs = [np.eye(2) / scale for scale in scales]\n",
    "shifts = np.array([[0.26, .98], [0.65, .95]]) / np.array(scales)[:, None]\n",
    "\n",
    "doges_raw = []\n",
    "for scaling in np.arange(1, 3, 0.1):\n",
    "    resized_img = doge_img.resize((int(doge_img.width * scaling), int(doge_img.height * scaling)))\n",
    "    for transf, shift in zip(transfs, shifts):\n",
    "        tform = tf.AffineTransform(matrix=transf)\n",
    "        shifted_img = tf.warp(np.array(resized_img), (tform + tf.AffineTransform(translation=-shift)).inverse)\n",
    "        doges_raw.append(Image.fromarray((shifted_img * 255).astype(np.uint8)))"
   ]
  }
 ],
 "metadata": {
  "kernelspec": {
   "display_name": "ds",
   "language": "python",
   "name": "python3"
  },
  "language_info": {
   "codemirror_mode": {
    "name": "ipython",
    "version": 3
   },
   "file_extension": ".py",
   "mimetype": "text/x-python",
   "name": "python",
   "nbconvert_exporter": "python",
   "pygments_lexer": "ipython3",
   "version": "3.8.18"
  }
 },
 "nbformat": 4,
 "nbformat_minor": 2
}
